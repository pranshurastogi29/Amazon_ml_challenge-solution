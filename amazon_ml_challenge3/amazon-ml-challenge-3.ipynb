{
 "cells": [
  {
   "cell_type": "code",
   "execution_count": 1,
   "id": "9a52e50c",
   "metadata": {
    "_cell_guid": "b1076dfc-b9ad-4769-8c92-a6c4dae69d19",
    "_uuid": "8f2839f25d086af736a60e9eeb907d3b93b6e0e5",
    "execution": {
     "iopub.execute_input": "2021-07-31T18:20:49.894951Z",
     "iopub.status.busy": "2021-07-31T18:20:49.893248Z",
     "iopub.status.idle": "2021-07-31T18:20:54.551099Z",
     "shell.execute_reply": "2021-07-31T18:20:54.550363Z"
    },
    "papermill": {
     "duration": 4.669316,
     "end_time": "2021-07-31T18:20:54.551258",
     "exception": false,
     "start_time": "2021-07-31T18:20:49.881942",
     "status": "completed"
    },
    "tags": []
   },
   "outputs": [],
   "source": [
    "import numpy as np\n",
    "import pandas as pd\n",
    "import csv\n",
    "import cudf\n",
    "import cuml\n",
    "import cupy\n",
    "from cuml.feature_extraction.text import TfidfVectorizer,CountVectorizer\n",
    "from cuml import PCA\n",
    "from cuml.svm import SVC\n",
    "from cuml.neighbors import KNeighborsClassifier\n",
    "from cuml.ensemble import RandomForestClassifier\n",
    "from sklearn.preprocessing import LabelEncoder"
   ]
  },
  {
   "cell_type": "markdown",
   "id": "c05e6860",
   "metadata": {
    "papermill": {
     "duration": 0.004219,
     "end_time": "2021-07-31T18:20:54.560652",
     "exception": false,
     "start_time": "2021-07-31T18:20:54.556433",
     "status": "completed"
    },
    "tags": []
   },
   "source": [
    "# KNN Predictions"
   ]
  },
  {
   "cell_type": "code",
   "execution_count": 2,
   "id": "b3ad871c",
   "metadata": {
    "execution": {
     "iopub.execute_input": "2021-07-31T18:20:54.576354Z",
     "iopub.status.busy": "2021-07-31T18:20:54.575720Z",
     "iopub.status.idle": "2021-07-31T18:22:33.149258Z",
     "shell.execute_reply": "2021-07-31T18:22:33.150877Z"
    },
    "papermill": {
     "duration": 98.585688,
     "end_time": "2021-07-31T18:22:33.151105",
     "exception": false,
     "start_time": "2021-07-31T18:20:54.565417",
     "status": "completed"
    },
    "tags": []
   },
   "outputs": [],
   "source": [
    "data = pd.read_csv('../input/amazon-clean-dataset2/data.csv')\n",
    "y = np.array(data['BROWSE_NODE_ID']).astype(np.int)\n",
    "del data\n",
    "\n",
    "le = LabelEncoder()\n",
    "y = le.fit_transform(y)\n",
    "\n",
    "d1 = np.load('../input/mpnet-dataset-part1/data_embeddings1.npy').astype(np.float16)\n",
    "d2 = np.load('../input/mpnet-part-2/data_embeddings2.npy').astype(np.float16)\n",
    "a = np.append(d1, d2, axis = 0)\n",
    "del d1, d2"
   ]
  },
  {
   "cell_type": "code",
   "execution_count": 3,
   "id": "c81d4ae0",
   "metadata": {
    "execution": {
     "iopub.execute_input": "2021-07-31T18:22:33.177484Z",
     "iopub.status.busy": "2021-07-31T18:22:33.174765Z",
     "iopub.status.idle": "2021-07-31T18:24:28.388204Z",
     "shell.execute_reply": "2021-07-31T18:24:28.386450Z"
    },
    "papermill": {
     "duration": 115.228166,
     "end_time": "2021-07-31T18:24:28.388392",
     "exception": false,
     "start_time": "2021-07-31T18:22:33.160226",
     "status": "completed"
    },
    "tags": []
   },
   "outputs": [],
   "source": [
    "model = KNeighborsClassifier(n_neighbors = 15)\n",
    "model.fit(a, y[ : a.shape[0]])\n",
    "del a, y\n",
    "t0 = np.load('../input/mpnet-dataset-part4/test_embeddings.npy').astype(np.float16)\n",
    "proba_knn = model.predict_proba(t0)\n",
    "pred_knn = le.inverse_transform(model.predict(t0))\n",
    "np.save('proba_knn.npy', proba_knn)"
   ]
  },
  {
   "cell_type": "code",
   "execution_count": 4,
   "id": "9a2a2933",
   "metadata": {
    "execution": {
     "iopub.execute_input": "2021-07-31T18:24:29.703295Z",
     "iopub.status.busy": "2021-07-31T18:24:29.702705Z",
     "iopub.status.idle": "2021-07-31T18:24:32.730271Z",
     "shell.execute_reply": "2021-07-31T18:24:32.729836Z"
    },
    "papermill": {
     "duration": 4.170222,
     "end_time": "2021-07-31T18:24:32.730393",
     "exception": false,
     "start_time": "2021-07-31T18:24:28.560171",
     "status": "completed"
    },
    "tags": []
   },
   "outputs": [
    {
     "data": {
      "text/html": [
       "<div>\n",
       "<style scoped>\n",
       "    .dataframe tbody tr th:only-of-type {\n",
       "        vertical-align: middle;\n",
       "    }\n",
       "\n",
       "    .dataframe tbody tr th {\n",
       "        vertical-align: top;\n",
       "    }\n",
       "\n",
       "    .dataframe thead th {\n",
       "        text-align: right;\n",
       "    }\n",
       "</style>\n",
       "<table border=\"1\" class=\"dataframe\">\n",
       "  <thead>\n",
       "    <tr style=\"text-align: right;\">\n",
       "      <th></th>\n",
       "      <th>PRODUCT_ID</th>\n",
       "      <th>BROWSE_NODE_ID</th>\n",
       "    </tr>\n",
       "  </thead>\n",
       "  <tbody>\n",
       "    <tr>\n",
       "      <th>0</th>\n",
       "      <td>1</td>\n",
       "      <td>1140</td>\n",
       "    </tr>\n",
       "    <tr>\n",
       "      <th>1</th>\n",
       "      <td>2</td>\n",
       "      <td>15772</td>\n",
       "    </tr>\n",
       "    <tr>\n",
       "      <th>2</th>\n",
       "      <td>3</td>\n",
       "      <td>3711</td>\n",
       "    </tr>\n",
       "    <tr>\n",
       "      <th>3</th>\n",
       "      <td>4</td>\n",
       "      <td>125</td>\n",
       "    </tr>\n",
       "    <tr>\n",
       "      <th>4</th>\n",
       "      <td>5</td>\n",
       "      <td>7644</td>\n",
       "    </tr>\n",
       "  </tbody>\n",
       "</table>\n",
       "</div>"
      ],
      "text/plain": [
       "   PRODUCT_ID  BROWSE_NODE_ID\n",
       "0           1            1140\n",
       "1           2           15772\n",
       "2           3            3711\n",
       "3           4             125\n",
       "4           5            7644"
      ]
     },
     "execution_count": 4,
     "metadata": {},
     "output_type": "execute_result"
    }
   ],
   "source": [
    "test = pd.read_csv('../input/amazon-ml-challenge-dataset/dataset/test.csv', escapechar = \"\\\\\"  , quoting = csv.QUOTE_NONE, usecols = ['PRODUCT_ID'])\n",
    "test['BROWSE_NODE_ID'] = pred_knn\n",
    "test.to_csv(\"submission_knn.csv\", index = False)\n",
    "test.head()"
   ]
  },
  {
   "cell_type": "code",
   "execution_count": null,
   "id": "426851ab",
   "metadata": {
    "papermill": {
     "duration": 0.004959,
     "end_time": "2021-07-31T18:24:32.740707",
     "exception": false,
     "start_time": "2021-07-31T18:24:32.735748",
     "status": "completed"
    },
    "tags": []
   },
   "outputs": [],
   "source": []
  }
 ],
 "metadata": {
  "kernelspec": {
   "display_name": "Python 3",
   "language": "python",
   "name": "python3"
  },
  "language_info": {
   "codemirror_mode": {
    "name": "ipython",
    "version": 3
   },
   "file_extension": ".py",
   "mimetype": "text/x-python",
   "name": "python",
   "nbconvert_exporter": "python",
   "pygments_lexer": "ipython3",
   "version": "3.7.10"
  },
  "papermill": {
   "default_parameters": {},
   "duration": 233.602132,
   "end_time": "2021-07-31T18:24:37.072628",
   "environment_variables": {},
   "exception": null,
   "input_path": "__notebook__.ipynb",
   "output_path": "__notebook__.ipynb",
   "parameters": {},
   "start_time": "2021-07-31T18:20:43.470496",
   "version": "2.3.3"
  }
 },
 "nbformat": 4,
 "nbformat_minor": 5
}
