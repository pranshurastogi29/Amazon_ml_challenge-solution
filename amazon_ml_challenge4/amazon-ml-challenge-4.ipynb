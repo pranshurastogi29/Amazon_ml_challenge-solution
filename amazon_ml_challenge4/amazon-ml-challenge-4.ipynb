{
 "cells": [
  {
   "cell_type": "code",
   "execution_count": 1,
   "id": "5b791b8a",
   "metadata": {
    "_cell_guid": "b1076dfc-b9ad-4769-8c92-a6c4dae69d19",
    "_uuid": "8f2839f25d086af736a60e9eeb907d3b93b6e0e5",
    "execution": {
     "iopub.execute_input": "2021-07-31T19:04:51.476909Z",
     "iopub.status.busy": "2021-07-31T19:04:51.476301Z",
     "iopub.status.idle": "2021-07-31T19:04:55.678743Z",
     "shell.execute_reply": "2021-07-31T19:04:55.677229Z",
     "shell.execute_reply.started": "2021-07-31T18:57:53.217225Z"
    },
    "papermill": {
     "duration": 4.218815,
     "end_time": "2021-07-31T19:04:55.678940",
     "exception": false,
     "start_time": "2021-07-31T19:04:51.460125",
     "status": "completed"
    },
    "tags": []
   },
   "outputs": [],
   "source": [
    "import numpy as np\n",
    "import pandas as pd\n",
    "import csv\n",
    "import cudf\n",
    "import cuml\n",
    "import cupy\n",
    "from cuml.neighbors import KNeighborsClassifier\n",
    "from sklearn.preprocessing import LabelEncoder"
   ]
  },
  {
   "cell_type": "markdown",
   "id": "72185cd2",
   "metadata": {
    "papermill": {
     "duration": 0.00681,
     "end_time": "2021-07-31T19:04:55.693771",
     "exception": false,
     "start_time": "2021-07-31T19:04:55.686961",
     "status": "completed"
    },
    "tags": []
   },
   "source": [
    "# KNN Predictions"
   ]
  },
  {
   "cell_type": "code",
   "execution_count": 2,
   "id": "9ed16646",
   "metadata": {
    "execution": {
     "iopub.execute_input": "2021-07-31T19:04:55.715157Z",
     "iopub.status.busy": "2021-07-31T19:04:55.714414Z",
     "iopub.status.idle": "2021-07-31T19:06:18.960731Z",
     "shell.execute_reply": "2021-07-31T19:06:18.959786Z",
     "shell.execute_reply.started": "2021-07-31T08:02:56.332439Z"
    },
    "papermill": {
     "duration": 83.260163,
     "end_time": "2021-07-31T19:06:18.960887",
     "exception": false,
     "start_time": "2021-07-31T19:04:55.700724",
     "status": "completed"
    },
    "tags": []
   },
   "outputs": [],
   "source": [
    "data = pd.read_csv('../input/amazon-clean-dataset2/data.csv')\n",
    "y = np.array(data['BROWSE_NODE_ID']).astype(np.int)\n",
    "del data\n",
    "\n",
    "le = LabelEncoder()\n",
    "y = le.fit_transform(y)\n",
    "\n",
    "d1 = np.load('../input/pretrained-bert-embedding-1th-part-new-model/data_embeddings1.npy').astype(np.float16)\n",
    "d2 = np.load('../input/pretrained-bert-embedding-2th-part-new-model/data_embeddings2.npy').astype(np.float16)\n",
    "a = np.append(d1, d2, axis = 0)\n",
    "del d1, d2"
   ]
  },
  {
   "cell_type": "code",
   "execution_count": 3,
   "id": "c12c4699",
   "metadata": {
    "execution": {
     "iopub.execute_input": "2021-07-31T19:06:21.753307Z",
     "iopub.status.busy": "2021-07-31T19:06:21.752721Z",
     "iopub.status.idle": "2021-07-31T19:08:05.865888Z",
     "shell.execute_reply": "2021-07-31T19:08:05.865336Z"
    },
    "papermill": {
     "duration": 106.900268,
     "end_time": "2021-07-31T19:08:05.866044",
     "exception": false,
     "start_time": "2021-07-31T19:06:18.965776",
     "status": "completed"
    },
    "tags": []
   },
   "outputs": [],
   "source": [
    "model = KNeighborsClassifier(n_neighbors = 15)\n",
    "model.fit(a, y[ : a.shape[0]])\n",
    "del a, y\n",
    "t0 = np.load('../input/pretrained-bert-embedding-4th-part-new-model/test_embeddings.npy').astype(np.float16)\n",
    "proba_knn = model.predict_proba(t0)\n",
    "pred_knn = le.inverse_transform(model.predict(t0))\n",
    "np.save('proba_knn.npy', proba_knn)"
   ]
  },
  {
   "cell_type": "code",
   "execution_count": 4,
   "id": "e3f8ffaa",
   "metadata": {
    "execution": {
     "iopub.execute_input": "2021-07-31T19:08:07.865168Z",
     "iopub.status.busy": "2021-07-31T19:08:07.860674Z",
     "iopub.status.idle": "2021-07-31T19:08:10.987892Z",
     "shell.execute_reply": "2021-07-31T19:08:10.986951Z",
     "shell.execute_reply.started": "2021-07-31T08:04:53.164771Z"
    },
    "papermill": {
     "duration": 3.141121,
     "end_time": "2021-07-31T19:08:10.988039",
     "exception": false,
     "start_time": "2021-07-31T19:08:07.846918",
     "status": "completed"
    },
    "tags": []
   },
   "outputs": [
    {
     "data": {
      "text/html": [
       "<div>\n",
       "<style scoped>\n",
       "    .dataframe tbody tr th:only-of-type {\n",
       "        vertical-align: middle;\n",
       "    }\n",
       "\n",
       "    .dataframe tbody tr th {\n",
       "        vertical-align: top;\n",
       "    }\n",
       "\n",
       "    .dataframe thead th {\n",
       "        text-align: right;\n",
       "    }\n",
       "</style>\n",
       "<table border=\"1\" class=\"dataframe\">\n",
       "  <thead>\n",
       "    <tr style=\"text-align: right;\">\n",
       "      <th></th>\n",
       "      <th>PRODUCT_ID</th>\n",
       "      <th>BROWSE_NODE_ID</th>\n",
       "    </tr>\n",
       "  </thead>\n",
       "  <tbody>\n",
       "    <tr>\n",
       "      <th>0</th>\n",
       "      <td>1</td>\n",
       "      <td>1140</td>\n",
       "    </tr>\n",
       "    <tr>\n",
       "      <th>1</th>\n",
       "      <td>2</td>\n",
       "      <td>15772</td>\n",
       "    </tr>\n",
       "    <tr>\n",
       "      <th>2</th>\n",
       "      <td>3</td>\n",
       "      <td>199530</td>\n",
       "    </tr>\n",
       "    <tr>\n",
       "      <th>3</th>\n",
       "      <td>4</td>\n",
       "      <td>125</td>\n",
       "    </tr>\n",
       "    <tr>\n",
       "      <th>4</th>\n",
       "      <td>5</td>\n",
       "      <td>7644</td>\n",
       "    </tr>\n",
       "  </tbody>\n",
       "</table>\n",
       "</div>"
      ],
      "text/plain": [
       "   PRODUCT_ID  BROWSE_NODE_ID\n",
       "0           1            1140\n",
       "1           2           15772\n",
       "2           3          199530\n",
       "3           4             125\n",
       "4           5            7644"
      ]
     },
     "execution_count": 4,
     "metadata": {},
     "output_type": "execute_result"
    }
   ],
   "source": [
    "test = pd.read_csv('../input/amazon-ml-challenge-dataset/dataset/test.csv', escapechar = \"\\\\\"  , quoting = csv.QUOTE_NONE, usecols = ['PRODUCT_ID'])\n",
    "test['BROWSE_NODE_ID'] = pred_knn\n",
    "test.to_csv(\"submission_knn.csv\", index = False)\n",
    "test.head()"
   ]
  },
  {
   "cell_type": "code",
   "execution_count": null,
   "id": "6df61232",
   "metadata": {
    "papermill": {
     "duration": 5.057265,
     "end_time": "2021-07-31T19:08:16.050879",
     "exception": false,
     "start_time": "2021-07-31T19:08:10.993614",
     "status": "completed"
    },
    "tags": []
   },
   "outputs": [],
   "source": []
  }
 ],
 "metadata": {
  "kernelspec": {
   "display_name": "Python 3",
   "language": "python",
   "name": "python3"
  },
  "language_info": {
   "codemirror_mode": {
    "name": "ipython",
    "version": 3
   },
   "file_extension": ".py",
   "mimetype": "text/x-python",
   "name": "python",
   "nbconvert_exporter": "python",
   "pygments_lexer": "ipython3",
   "version": "3.7.10"
  },
  "papermill": {
   "default_parameters": {},
   "duration": 213.682928,
   "end_time": "2021-07-31T19:08:18.808209",
   "environment_variables": {},
   "exception": null,
   "input_path": "__notebook__.ipynb",
   "output_path": "__notebook__.ipynb",
   "parameters": {},
   "start_time": "2021-07-31T19:04:45.125281",
   "version": "2.3.3"
  }
 },
 "nbformat": 4,
 "nbformat_minor": 5
}
