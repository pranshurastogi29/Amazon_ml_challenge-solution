{
 "cells": [
  {
   "cell_type": "code",
   "execution_count": 1,
   "id": "5542f03d",
   "metadata": {
    "_cell_guid": "b1076dfc-b9ad-4769-8c92-a6c4dae69d19",
    "_uuid": "8f2839f25d086af736a60e9eeb907d3b93b6e0e5",
    "execution": {
     "iopub.execute_input": "2021-07-30T13:18:57.207907Z",
     "iopub.status.busy": "2021-07-30T13:18:57.207167Z",
     "iopub.status.idle": "2021-07-30T13:20:22.054464Z",
     "shell.execute_reply": "2021-07-30T13:20:22.053186Z",
     "shell.execute_reply.started": "2021-07-30T07:40:14.17558Z"
    },
    "papermill": {
     "duration": 84.876922,
     "end_time": "2021-07-30T13:20:22.054728",
     "exception": false,
     "start_time": "2021-07-30T13:18:57.177806",
     "status": "completed"
    },
    "tags": []
   },
   "outputs": [
    {
     "name": "stdout",
     "output_type": "stream",
     "text": [
      "data_loaded\n"
     ]
    }
   ],
   "source": [
    "import pandas as pd\n",
    "import numpy as np\n",
    "import matplotlib.pyplot as plt\n",
    "import csv\n",
    "\n",
    "def text_preproc(x):\n",
    "    x = x.lower()\n",
    "    x = x.encode('ascii', 'ignore').decode()\n",
    "    x = re.sub(r'https*\\S+', ' ', x)\n",
    "    x = re.sub(r'@\\S+', ' ', x)\n",
    "    x = re.sub(r'#\\S+', ' ', x)\n",
    "    x = re.sub(r'\\'\\w+', '', x)\n",
    "    x = re.sub('[%s]' % re.escape(string.punctuation), ' ', x)\n",
    "    x = re.sub(r'\\w*\\d+\\w*', '', x)\n",
    "    x = re.sub(r'\\s{2,}', ' ', x)\n",
    "    return x\n",
    "\n",
    "\n",
    "data = pd.read_csv('../input/amazon-embed-1/dataset/train.csv',  escapechar = \"\\\\\"  , quoting = csv.QUOTE_NONE)\n",
    "test = pd.read_csv('../input/amazon-embed-1/dataset/test.csv', escapechar = \"\\\\\"  , quoting = csv.QUOTE_NONE)\n",
    "sub = pd.read_csv('../input/amazon-embed-1/dataset/sample_submission.csv')\n",
    "\n",
    "print('data_loaded')\n",
    "data = data.fillna('not available')\n",
    "test = test.fillna('not available')\n",
    "\n",
    "data['All'] = data['TITLE'].astype(str) + ' ' + data['BRAND'].astype(str)\n",
    "test['All'] = test['TITLE'].astype(str) + ' ' + test['BRAND'].astype(str)"
   ]
  },
  {
   "cell_type": "code",
   "execution_count": 2,
   "id": "e69e0618",
   "metadata": {
    "execution": {
     "iopub.execute_input": "2021-07-30T13:20:22.074663Z",
     "iopub.status.busy": "2021-07-30T13:20:22.073587Z",
     "iopub.status.idle": "2021-07-30T13:20:22.077300Z",
     "shell.execute_reply": "2021-07-30T13:20:22.076605Z",
     "shell.execute_reply.started": "2021-07-30T07:41:53.744641Z"
    },
    "papermill": {
     "duration": 0.015342,
     "end_time": "2021-07-30T13:20:22.077460",
     "exception": false,
     "start_time": "2021-07-30T13:20:22.062118",
     "status": "completed"
    },
    "tags": []
   },
   "outputs": [],
   "source": [
    "import re\n",
    "import string"
   ]
  },
  {
   "cell_type": "code",
   "execution_count": 3,
   "id": "ed6c13e2",
   "metadata": {
    "execution": {
     "iopub.execute_input": "2021-07-30T13:20:23.022302Z",
     "iopub.status.busy": "2021-07-30T13:20:23.020799Z",
     "iopub.status.idle": "2021-07-30T13:20:25.984515Z",
     "shell.execute_reply": "2021-07-30T13:20:25.983686Z",
     "shell.execute_reply.started": "2021-07-30T07:42:49.829724Z"
    },
    "papermill": {
     "duration": 3.895828,
     "end_time": "2021-07-30T13:20:25.984734",
     "exception": false,
     "start_time": "2021-07-30T13:20:22.088906",
     "status": "completed"
    },
    "tags": []
   },
   "outputs": [],
   "source": [
    "data = data.drop(columns=['TITLE','DESCRIPTION','BULLET_POINTS','BRAND'])"
   ]
  },
  {
   "cell_type": "code",
   "execution_count": 4,
   "id": "f9bc5c8c",
   "metadata": {
    "execution": {
     "iopub.execute_input": "2021-07-30T13:20:26.015221Z",
     "iopub.status.busy": "2021-07-30T13:20:26.013959Z",
     "iopub.status.idle": "2021-07-30T13:22:53.714456Z",
     "shell.execute_reply": "2021-07-30T13:22:53.713461Z"
    },
    "papermill": {
     "duration": 147.720556,
     "end_time": "2021-07-30T13:22:53.714832",
     "exception": false,
     "start_time": "2021-07-30T13:20:25.994276",
     "status": "completed"
    },
    "tags": []
   },
   "outputs": [],
   "source": [
    "data['All'] = data['All'].apply(lambda x : text_preproc(x))\n",
    "data[['All','BROWSE_NODE_ID']].to_csv('data.csv',index = False)\n",
    "del data"
   ]
  },
  {
   "cell_type": "code",
   "execution_count": 5,
   "id": "5ef49780",
   "metadata": {
    "execution": {
     "iopub.execute_input": "2021-07-30T13:22:53.739862Z",
     "iopub.status.busy": "2021-07-30T13:22:53.736304Z",
     "iopub.status.idle": "2021-07-30T13:22:59.716344Z",
     "shell.execute_reply": "2021-07-30T13:22:59.715805Z",
     "shell.execute_reply.started": "2021-07-30T07:41:56.039184Z"
    },
    "papermill": {
     "duration": 5.992663,
     "end_time": "2021-07-30T13:22:59.716489",
     "exception": false,
     "start_time": "2021-07-30T13:22:53.723826",
     "status": "completed"
    },
    "tags": []
   },
   "outputs": [],
   "source": [
    "test['All'] = test['All'].apply(lambda x : text_preproc(x))\n",
    "test[['All']].to_csv('test.csv',index = False)\n",
    "del test"
   ]
  },
  {
   "cell_type": "code",
   "execution_count": null,
   "id": "84fd9541",
   "metadata": {
    "papermill": {
     "duration": 0.00632,
     "end_time": "2021-07-30T13:22:59.729784",
     "exception": false,
     "start_time": "2021-07-30T13:22:59.723464",
     "status": "completed"
    },
    "tags": []
   },
   "outputs": [],
   "source": []
  }
 ],
 "metadata": {
  "kernelspec": {
   "display_name": "Python 3",
   "language": "python",
   "name": "python3"
  },
  "language_info": {
   "codemirror_mode": {
    "name": "ipython",
    "version": 3
   },
   "file_extension": ".py",
   "mimetype": "text/x-python",
   "name": "python",
   "nbconvert_exporter": "python",
   "pygments_lexer": "ipython3",
   "version": "3.7.10"
  },
  "papermill": {
   "default_parameters": {},
   "duration": 252.930593,
   "end_time": "2021-07-30T13:23:00.548051",
   "environment_variables": {},
   "exception": null,
   "input_path": "__notebook__.ipynb",
   "output_path": "__notebook__.ipynb",
   "parameters": {},
   "start_time": "2021-07-30T13:18:47.617458",
   "version": "2.3.3"
  }
 },
 "nbformat": 4,
 "nbformat_minor": 5
}
