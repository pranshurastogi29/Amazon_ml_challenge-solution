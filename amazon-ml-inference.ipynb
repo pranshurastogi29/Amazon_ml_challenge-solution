{
 "cells": [
  {
   "cell_type": "code",
   "execution_count": 1,
   "id": "8b599c5a",
   "metadata": {
    "_cell_guid": "b1076dfc-b9ad-4769-8c92-a6c4dae69d19",
    "_uuid": "8f2839f25d086af736a60e9eeb907d3b93b6e0e5",
    "execution": {
     "iopub.execute_input": "2021-08-01T07:07:41.851300Z",
     "iopub.status.busy": "2021-08-01T07:07:41.848492Z",
     "iopub.status.idle": "2021-08-01T07:07:42.830732Z",
     "shell.execute_reply": "2021-08-01T07:07:42.831245Z",
     "shell.execute_reply.started": "2021-08-01T07:03:51.934303Z"
    },
    "papermill": {
     "duration": 0.997354,
     "end_time": "2021-08-01T07:07:42.831528",
     "exception": false,
     "start_time": "2021-08-01T07:07:41.834174",
     "status": "completed"
    },
    "tags": []
   },
   "outputs": [],
   "source": [
    "import numpy as np\n",
    "import pandas as pd\n",
    "import csv\n",
    "import gc\n",
    "from sklearn.preprocessing import LabelEncoder"
   ]
  },
  {
   "cell_type": "markdown",
   "id": "0d5c7398",
   "metadata": {
    "papermill": {
     "duration": 0.003634,
     "end_time": "2021-08-01T07:07:42.839866",
     "exception": false,
     "start_time": "2021-08-01T07:07:42.836232",
     "status": "completed"
    },
    "tags": []
   },
   "source": [
    "# KNN Predictions"
   ]
  },
  {
   "cell_type": "code",
   "execution_count": 2,
   "id": "5e6de6ae",
   "metadata": {
    "execution": {
     "iopub.execute_input": "2021-08-01T07:07:42.853021Z",
     "iopub.status.busy": "2021-08-01T07:07:42.852360Z",
     "iopub.status.idle": "2021-08-01T07:10:19.101734Z",
     "shell.execute_reply": "2021-08-01T07:10:19.100585Z",
     "shell.execute_reply.started": "2021-08-01T07:03:52.920601Z"
    },
    "papermill": {
     "duration": 156.255872,
     "end_time": "2021-08-01T07:10:19.101902",
     "exception": false,
     "start_time": "2021-08-01T07:07:42.846030",
     "status": "completed"
    },
    "tags": []
   },
   "outputs": [],
   "source": [
    "data = pd.read_csv('../input/amazon-clean-dataset2/data.csv')\n",
    "y = np.array(data['BROWSE_NODE_ID']).astype(np.int)\n",
    "del data\n",
    "\n",
    "le = LabelEncoder()\n",
    "y = le.fit_transform(y)\n",
    "del y\n",
    "\n",
    "d1 = np.load('../input/amazon-ml-challenge-2/proba_knn.npy')\n",
    "d1 *= 0.3\n",
    "gc.collect();\n",
    "d2 = np.load('../input/amazon-ml-challenge/proba_knn.npy')\n",
    "d2 *= 0.3\n",
    "d1 += d2\n",
    "del d2\n",
    "gc.collect();\n",
    "d3 = np.load('../input/amazon-ml-challenge-3/proba_knn.npy')\n",
    "d3 *= 0.2\n",
    "d1 += d3\n",
    "del d3\n",
    "gc.collect();\n",
    "d4 = np.load('../input/amazon-ml-challenge-4/proba_knn.npy')\n",
    "d4 *= 0.2\n",
    "d1 += d4\n",
    "del d4\n",
    "gc.collect();\n",
    "\n",
    "d1 = np.argmax(d1, axis = -1)"
   ]
  },
  {
   "cell_type": "code",
   "execution_count": 3,
   "id": "047e3385",
   "metadata": {
    "execution": {
     "iopub.execute_input": "2021-08-01T07:10:19.115461Z",
     "iopub.status.busy": "2021-08-01T07:10:19.114809Z",
     "iopub.status.idle": "2021-08-01T07:10:21.542071Z",
     "shell.execute_reply": "2021-08-01T07:10:21.542529Z",
     "shell.execute_reply.started": "2021-08-01T07:06:39.309832Z"
    },
    "papermill": {
     "duration": 2.436429,
     "end_time": "2021-08-01T07:10:21.542731",
     "exception": false,
     "start_time": "2021-08-01T07:10:19.106302",
     "status": "completed"
    },
    "tags": []
   },
   "outputs": [
    {
     "data": {
      "text/html": [
       "<div>\n",
       "<style scoped>\n",
       "    .dataframe tbody tr th:only-of-type {\n",
       "        vertical-align: middle;\n",
       "    }\n",
       "\n",
       "    .dataframe tbody tr th {\n",
       "        vertical-align: top;\n",
       "    }\n",
       "\n",
       "    .dataframe thead th {\n",
       "        text-align: right;\n",
       "    }\n",
       "</style>\n",
       "<table border=\"1\" class=\"dataframe\">\n",
       "  <thead>\n",
       "    <tr style=\"text-align: right;\">\n",
       "      <th></th>\n",
       "      <th>PRODUCT_ID</th>\n",
       "      <th>BROWSE_NODE_ID</th>\n",
       "    </tr>\n",
       "  </thead>\n",
       "  <tbody>\n",
       "    <tr>\n",
       "      <th>0</th>\n",
       "      <td>1</td>\n",
       "      <td>1140</td>\n",
       "    </tr>\n",
       "    <tr>\n",
       "      <th>1</th>\n",
       "      <td>2</td>\n",
       "      <td>2321</td>\n",
       "    </tr>\n",
       "    <tr>\n",
       "      <th>2</th>\n",
       "      <td>3</td>\n",
       "      <td>3711</td>\n",
       "    </tr>\n",
       "    <tr>\n",
       "      <th>3</th>\n",
       "      <td>4</td>\n",
       "      <td>125</td>\n",
       "    </tr>\n",
       "    <tr>\n",
       "      <th>4</th>\n",
       "      <td>5</td>\n",
       "      <td>7644</td>\n",
       "    </tr>\n",
       "  </tbody>\n",
       "</table>\n",
       "</div>"
      ],
      "text/plain": [
       "   PRODUCT_ID  BROWSE_NODE_ID\n",
       "0           1            1140\n",
       "1           2            2321\n",
       "2           3            3711\n",
       "3           4             125\n",
       "4           5            7644"
      ]
     },
     "execution_count": 3,
     "metadata": {},
     "output_type": "execute_result"
    }
   ],
   "source": [
    "test = pd.read_csv('../input/amazon-ml-challenge-dataset/dataset/test.csv', escapechar = \"\\\\\"  , quoting = csv.QUOTE_NONE, usecols = ['PRODUCT_ID'])\n",
    "test['BROWSE_NODE_ID'] = le.inverse_transform(d1)\n",
    "test.to_csv(\"submission_knn.csv\", index = False)\n",
    "test.head()"
   ]
  },
  {
   "cell_type": "code",
   "execution_count": null,
   "id": "17997881",
   "metadata": {
    "papermill": {
     "duration": 0.004106,
     "end_time": "2021-08-01T07:10:21.551690",
     "exception": false,
     "start_time": "2021-08-01T07:10:21.547584",
     "status": "completed"
    },
    "tags": []
   },
   "outputs": [],
   "source": []
  }
 ],
 "metadata": {
  "kernelspec": {
   "display_name": "Python 3",
   "language": "python",
   "name": "python3"
  },
  "language_info": {
   "codemirror_mode": {
    "name": "ipython",
    "version": 3
   },
   "file_extension": ".py",
   "mimetype": "text/x-python",
   "name": "python",
   "nbconvert_exporter": "python",
   "pygments_lexer": "ipython3",
   "version": "3.7.10"
  },
  "papermill": {
   "default_parameters": {},
   "duration": 168.835516,
   "end_time": "2021-08-01T07:10:23.307679",
   "environment_variables": {},
   "exception": null,
   "input_path": "__notebook__.ipynb",
   "output_path": "__notebook__.ipynb",
   "parameters": {},
   "start_time": "2021-08-01T07:07:34.472163",
   "version": "2.3.3"
  }
 },
 "nbformat": 4,
 "nbformat_minor": 5
}
