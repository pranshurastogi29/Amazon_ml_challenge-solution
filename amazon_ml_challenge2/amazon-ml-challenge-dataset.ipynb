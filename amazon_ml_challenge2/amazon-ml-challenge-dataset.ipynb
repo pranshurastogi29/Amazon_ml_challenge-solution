{
 "cells": [
  {
   "cell_type": "code",
   "execution_count": 1,
   "id": "b4858365",
   "metadata": {
    "_cell_guid": "b1076dfc-b9ad-4769-8c92-a6c4dae69d19",
    "_uuid": "8f2839f25d086af736a60e9eeb907d3b93b6e0e5",
    "execution": {
     "iopub.execute_input": "2021-07-31T04:56:54.192522Z",
     "iopub.status.busy": "2021-07-31T04:56:54.180541Z",
     "iopub.status.idle": "2021-07-31T04:59:30.905117Z",
     "shell.execute_reply": "2021-07-31T04:59:30.903550Z",
     "shell.execute_reply.started": "2021-07-30T12:58:14.843353Z"
    },
    "papermill": {
     "duration": 156.747885,
     "end_time": "2021-07-31T04:59:30.905606",
     "exception": false,
     "start_time": "2021-07-31T04:56:54.157721",
     "status": "completed"
    },
    "tags": []
   },
   "outputs": [
    {
     "name": "stdout",
     "output_type": "stream",
     "text": [
      "--2021-07-31 04:56:54--  https://s3-ap-southeast-1.amazonaws.com/he-public-data/dataset52a7b21.zip\r\n",
      "Resolving s3-ap-southeast-1.amazonaws.com (s3-ap-southeast-1.amazonaws.com)... 52.219.40.125\r\n",
      "Connecting to s3-ap-southeast-1.amazonaws.com (s3-ap-southeast-1.amazonaws.com)|52.219.40.125|:443... connected.\r\n",
      "HTTP request sent, awaiting response... 200 OK\r\n",
      "Length: 1061576029 (1012M) [binary/octet-stream]\r\n",
      "Saving to: ‘dataset52a7b21.zip’\r\n",
      "\r\n",
      "dataset52a7b21.zip  100%[===================>]   1012M  18.1MB/s    in 60s     \r\n",
      "\r\n",
      "2021-07-31 04:57:55 (16.8 MB/s) - ‘dataset52a7b21.zip’ saved [1061576029/1061576029]\r\n",
      "\r\n",
      "Archive:  dataset52a7b21.zip\r\n",
      "   creating: dataset/\r\n",
      "  inflating: dataset/train.csv       \r\n",
      "  inflating: dataset/sample_submission.csv  \r\n",
      "  inflating: dataset/test.csv        \r\n",
      "  inflating: dataset/.~lock.train.csv#  \r\n"
     ]
    }
   ],
   "source": [
    "import pandas as pd\n",
    "import numpy as np\n",
    "import matplotlib.pyplot as plt\n",
    "import csv\n",
    "\n",
    "!wget https://s3-ap-southeast-1.amazonaws.com/he-public-data/dataset52a7b21.zip\n",
    "!unzip dataset52a7b21.zip\n",
    "data = pd.read_csv('dataset/train.csv',  escapechar = \"\\\\\"  , quoting = csv.QUOTE_NONE)\n",
    "test = pd.read_csv('dataset/test.csv', escapechar = \"\\\\\"  , quoting = csv.QUOTE_NONE)\n",
    "sub = pd.read_csv('dataset/sample_submission.csv')"
   ]
  },
  {
   "cell_type": "code",
   "execution_count": null,
   "id": "f3dcd034",
   "metadata": {
    "papermill": {
     "duration": 0.061059,
     "end_time": "2021-07-31T04:59:31.030501",
     "exception": false,
     "start_time": "2021-07-31T04:59:30.969442",
     "status": "completed"
    },
    "tags": []
   },
   "outputs": [],
   "source": []
  }
 ],
 "metadata": {
  "kernelspec": {
   "display_name": "Python 3",
   "language": "python",
   "name": "python3"
  },
  "language_info": {
   "codemirror_mode": {
    "name": "ipython",
    "version": 3
   },
   "file_extension": ".py",
   "mimetype": "text/x-python",
   "name": "python",
   "nbconvert_exporter": "python",
   "pygments_lexer": "ipython3",
   "version": "3.7.10"
  },
  "papermill": {
   "default_parameters": {},
   "duration": 168.958207,
   "end_time": "2021-07-31T04:59:33.874301",
   "environment_variables": {},
   "exception": null,
   "input_path": "__notebook__.ipynb",
   "output_path": "__notebook__.ipynb",
   "parameters": {},
   "start_time": "2021-07-31T04:56:44.916094",
   "version": "2.3.3"
  }
 },
 "nbformat": 4,
 "nbformat_minor": 5
}
