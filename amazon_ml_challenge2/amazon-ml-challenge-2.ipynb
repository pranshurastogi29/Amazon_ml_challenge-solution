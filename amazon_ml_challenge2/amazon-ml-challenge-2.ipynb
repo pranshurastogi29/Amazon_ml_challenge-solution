{
 "cells": [
  {
   "cell_type": "code",
   "execution_count": 1,
   "id": "aa9bc625",
   "metadata": {
    "_cell_guid": "b1076dfc-b9ad-4769-8c92-a6c4dae69d19",
    "_uuid": "8f2839f25d086af736a60e9eeb907d3b93b6e0e5",
    "execution": {
     "iopub.execute_input": "2021-07-31T17:59:47.658212Z",
     "iopub.status.busy": "2021-07-31T17:59:47.656245Z",
     "iopub.status.idle": "2021-07-31T17:59:53.303332Z",
     "shell.execute_reply": "2021-07-31T17:59:53.302621Z",
     "shell.execute_reply.started": "2021-07-31T17:55:24.453469Z"
    },
    "papermill": {
     "duration": 5.660278,
     "end_time": "2021-07-31T17:59:53.303513",
     "exception": false,
     "start_time": "2021-07-31T17:59:47.643235",
     "status": "completed"
    },
    "tags": []
   },
   "outputs": [],
   "source": [
    "import numpy as np\n",
    "import pandas as pd\n",
    "import csv\n",
    "import cudf\n",
    "import cuml\n",
    "import cupy\n",
    "from cuml.feature_extraction.text import TfidfVectorizer,CountVectorizer\n",
    "from cuml import PCA\n",
    "from cuml.svm import SVC\n",
    "from cuml.neighbors import KNeighborsClassifier\n",
    "from cuml.ensemble import RandomForestClassifier\n",
    "from sklearn.preprocessing import LabelEncoder"
   ]
  },
  {
   "cell_type": "markdown",
   "id": "40208222",
   "metadata": {
    "papermill": {
     "duration": 0.006753,
     "end_time": "2021-07-31T17:59:53.316818",
     "exception": false,
     "start_time": "2021-07-31T17:59:53.310065",
     "status": "completed"
    },
    "tags": []
   },
   "source": [
    "# KNN Predictions"
   ]
  },
  {
   "cell_type": "code",
   "execution_count": 2,
   "id": "fd67394c",
   "metadata": {
    "execution": {
     "iopub.execute_input": "2021-07-31T17:59:53.335559Z",
     "iopub.status.busy": "2021-07-31T17:59:53.334714Z",
     "iopub.status.idle": "2021-07-31T18:01:06.023209Z",
     "shell.execute_reply": "2021-07-31T18:01:06.024384Z",
     "shell.execute_reply.started": "2021-07-31T17:55:28.985760Z"
    },
    "papermill": {
     "duration": 72.701823,
     "end_time": "2021-07-31T18:01:06.024779",
     "exception": false,
     "start_time": "2021-07-31T17:59:53.322956",
     "status": "completed"
    },
    "tags": []
   },
   "outputs": [],
   "source": [
    "data = pd.read_csv('../input/amazon-clean-dataset2/data.csv')\n",
    "y = np.array(data['BROWSE_NODE_ID']).astype(np.int)\n",
    "del data\n",
    "\n",
    "le = LabelEncoder()\n",
    "y = le.fit_transform(y)\n",
    "\n",
    "d1 = np.load('../input/finetuned-model-part1/data_embeddings1.npy').astype(np.float16)\n",
    "d2 = np.load('../input/finetuned-model-part2/data_embeddings2.npy').astype(np.float16)\n",
    "a = np.append(d1, d2, axis = 0)\n",
    "del d1, d2"
   ]
  },
  {
   "cell_type": "code",
   "execution_count": 3,
   "id": "51cbf714",
   "metadata": {
    "execution": {
     "iopub.execute_input": "2021-07-31T18:01:09.754144Z",
     "iopub.status.busy": "2021-07-31T18:01:09.752949Z",
     "iopub.status.idle": "2021-07-31T18:03:02.431765Z",
     "shell.execute_reply": "2021-07-31T18:03:02.429934Z",
     "shell.execute_reply.started": "2021-07-31T17:56:55.307656Z"
    },
    "papermill": {
     "duration": 116.396108,
     "end_time": "2021-07-31T18:03:02.431994",
     "exception": false,
     "start_time": "2021-07-31T18:01:06.035886",
     "status": "completed"
    },
    "tags": []
   },
   "outputs": [],
   "source": [
    "model = KNeighborsClassifier(n_neighbors = 15)\n",
    "model.fit(a, y[ : a.shape[0]])\n",
    "del a, y\n",
    "t0 = np.load('../input/finetuned-model-part4/test_embeddings.npy').astype(np.float16)\n",
    "proba_knn = model.predict_proba(t0)\n",
    "pred_knn = le.inverse_transform(model.predict(t0))\n",
    "np.save('proba_knn.npy', proba_knn)\n",
    "del t0, proba_knn"
   ]
  },
  {
   "cell_type": "code",
   "execution_count": 4,
   "id": "4e661187",
   "metadata": {
    "execution": {
     "iopub.execute_input": "2021-07-31T18:03:03.507787Z",
     "iopub.status.busy": "2021-07-31T18:03:03.507104Z",
     "iopub.status.idle": "2021-07-31T18:03:06.193954Z",
     "shell.execute_reply": "2021-07-31T18:03:06.193405Z",
     "shell.execute_reply.started": "2021-07-31T17:58:44.347140Z"
    },
    "papermill": {
     "duration": 2.7119,
     "end_time": "2021-07-31T18:03:06.194103",
     "exception": false,
     "start_time": "2021-07-31T18:03:03.482203",
     "status": "completed"
    },
    "tags": []
   },
   "outputs": [
    {
     "data": {
      "text/html": [
       "<div>\n",
       "<style scoped>\n",
       "    .dataframe tbody tr th:only-of-type {\n",
       "        vertical-align: middle;\n",
       "    }\n",
       "\n",
       "    .dataframe tbody tr th {\n",
       "        vertical-align: top;\n",
       "    }\n",
       "\n",
       "    .dataframe thead th {\n",
       "        text-align: right;\n",
       "    }\n",
       "</style>\n",
       "<table border=\"1\" class=\"dataframe\">\n",
       "  <thead>\n",
       "    <tr style=\"text-align: right;\">\n",
       "      <th></th>\n",
       "      <th>PRODUCT_ID</th>\n",
       "      <th>BROWSE_NODE_ID</th>\n",
       "    </tr>\n",
       "  </thead>\n",
       "  <tbody>\n",
       "    <tr>\n",
       "      <th>0</th>\n",
       "      <td>1</td>\n",
       "      <td>1000</td>\n",
       "    </tr>\n",
       "    <tr>\n",
       "      <th>1</th>\n",
       "      <td>2</td>\n",
       "      <td>2321</td>\n",
       "    </tr>\n",
       "    <tr>\n",
       "      <th>2</th>\n",
       "      <td>3</td>\n",
       "      <td>204</td>\n",
       "    </tr>\n",
       "    <tr>\n",
       "      <th>3</th>\n",
       "      <td>4</td>\n",
       "      <td>125</td>\n",
       "    </tr>\n",
       "    <tr>\n",
       "      <th>4</th>\n",
       "      <td>5</td>\n",
       "      <td>8915</td>\n",
       "    </tr>\n",
       "  </tbody>\n",
       "</table>\n",
       "</div>"
      ],
      "text/plain": [
       "   PRODUCT_ID  BROWSE_NODE_ID\n",
       "0           1            1000\n",
       "1           2            2321\n",
       "2           3             204\n",
       "3           4             125\n",
       "4           5            8915"
      ]
     },
     "execution_count": 4,
     "metadata": {},
     "output_type": "execute_result"
    }
   ],
   "source": [
    "test = pd.read_csv('../input/amazon-ml-challenge-dataset/dataset/test.csv', escapechar = \"\\\\\"  , quoting = csv.QUOTE_NONE, usecols = ['PRODUCT_ID'])\n",
    "test['BROWSE_NODE_ID'] = pred_knn\n",
    "test.to_csv(\"submission_knn.csv\", index = False)\n",
    "test.head()"
   ]
  },
  {
   "cell_type": "code",
   "execution_count": null,
   "id": "6c7c2125",
   "metadata": {
    "papermill": {
     "duration": 0.00643,
     "end_time": "2021-07-31T18:03:06.207585",
     "exception": false,
     "start_time": "2021-07-31T18:03:06.201155",
     "status": "completed"
    },
    "tags": []
   },
   "outputs": [],
   "source": []
  }
 ],
 "metadata": {
  "kernelspec": {
   "display_name": "Python 3",
   "language": "python",
   "name": "python3"
  },
  "language_info": {
   "codemirror_mode": {
    "name": "ipython",
    "version": 3
   },
   "file_extension": ".py",
   "mimetype": "text/x-python",
   "name": "python",
   "nbconvert_exporter": "python",
   "pygments_lexer": "ipython3",
   "version": "3.7.10"
  },
  "papermill": {
   "default_parameters": {},
   "duration": 210.866779,
   "end_time": "2021-07-31T18:03:10.278358",
   "environment_variables": {},
   "exception": null,
   "input_path": "__notebook__.ipynb",
   "output_path": "__notebook__.ipynb",
   "parameters": {},
   "start_time": "2021-07-31T17:59:39.411579",
   "version": "2.3.3"
  }
 },
 "nbformat": 4,
 "nbformat_minor": 5
}
