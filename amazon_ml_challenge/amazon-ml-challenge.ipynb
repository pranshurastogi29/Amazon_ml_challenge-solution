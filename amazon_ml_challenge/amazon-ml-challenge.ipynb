{
 "cells": [
  {
   "cell_type": "code",
   "execution_count": 1,
   "id": "d6e4643d",
   "metadata": {
    "_cell_guid": "b1076dfc-b9ad-4769-8c92-a6c4dae69d19",
    "_uuid": "8f2839f25d086af736a60e9eeb907d3b93b6e0e5",
    "execution": {
     "iopub.execute_input": "2021-08-01T06:24:24.365833Z",
     "iopub.status.busy": "2021-08-01T06:24:24.365155Z",
     "iopub.status.idle": "2021-08-01T06:24:28.767172Z",
     "shell.execute_reply": "2021-08-01T06:24:28.766203Z",
     "shell.execute_reply.started": "2021-08-01T06:08:58.673245Z"
    },
    "papermill": {
     "duration": 4.418643,
     "end_time": "2021-08-01T06:24:28.767347",
     "exception": false,
     "start_time": "2021-08-01T06:24:24.348704",
     "status": "completed"
    },
    "tags": []
   },
   "outputs": [],
   "source": [
    "import numpy as np\n",
    "import pandas as pd\n",
    "import csv\n",
    "import cuml\n",
    "from cuml.neighbors import KNeighborsClassifier\n",
    "from sklearn.preprocessing import LabelEncoder"
   ]
  },
  {
   "cell_type": "code",
   "execution_count": 2,
   "id": "7e315adc",
   "metadata": {
    "execution": {
     "iopub.execute_input": "2021-08-01T06:24:28.781800Z",
     "iopub.status.busy": "2021-08-01T06:24:28.781278Z",
     "iopub.status.idle": "2021-08-01T06:25:32.380542Z",
     "shell.execute_reply": "2021-08-01T06:25:32.379976Z",
     "shell.execute_reply.started": "2021-08-01T06:09:03.053399Z"
    },
    "papermill": {
     "duration": 63.608605,
     "end_time": "2021-08-01T06:25:32.380705",
     "exception": false,
     "start_time": "2021-08-01T06:24:28.772100",
     "status": "completed"
    },
    "tags": []
   },
   "outputs": [],
   "source": [
    "data = pd.read_csv('../input/amazon-clean-dataset2/data.csv')\n",
    "y = np.array(data['BROWSE_NODE_ID']).astype(np.int)\n",
    "del data\n",
    "\n",
    "le = LabelEncoder()\n",
    "y = le.fit_transform(y)\n",
    "\n",
    "d1 = np.load('../input/ml-mpnet-part-1/data_embeddings1.npy').astype(np.float16)\n",
    "d2 = np.load('../input/ml-mpnet-part-2/data_embeddings2.npy').astype(np.float16)\n",
    "a = np.append(d1, d2, axis = 0)\n",
    "del d1, d2"
   ]
  },
  {
   "cell_type": "code",
   "execution_count": 3,
   "id": "3cc920af",
   "metadata": {
    "execution": {
     "iopub.execute_input": "2021-08-01T06:25:35.322175Z",
     "iopub.status.busy": "2021-08-01T06:25:35.321152Z",
     "iopub.status.idle": "2021-08-01T06:27:24.234109Z",
     "shell.execute_reply": "2021-08-01T06:27:24.232417Z",
     "shell.execute_reply.started": "2021-08-01T06:10:12.025798Z"
    },
    "papermill": {
     "duration": 111.849011,
     "end_time": "2021-08-01T06:27:24.234283",
     "exception": false,
     "start_time": "2021-08-01T06:25:32.385272",
     "status": "completed"
    },
    "tags": []
   },
   "outputs": [],
   "source": [
    "model = KNeighborsClassifier(n_neighbors = 15)\n",
    "model.fit(a, y[ : a.shape[0]])\n",
    "del a, y\n",
    "t0 = np.load('../input/ml-mpnet-part-4/test_embeddings.npy').astype(np.float16)\n",
    "proba_knn = model.predict_proba(t0)\n",
    "pred_knn = le.inverse_transform(model.predict(t0))\n",
    "np.save('proba_knn.npy', proba_knn)\n",
    "del t0, proba_knn"
   ]
  },
  {
   "cell_type": "code",
   "execution_count": 4,
   "id": "69dc93d3",
   "metadata": {
    "execution": {
     "iopub.execute_input": "2021-08-01T06:27:26.887798Z",
     "iopub.status.busy": "2021-08-01T06:27:26.887044Z",
     "iopub.status.idle": "2021-08-01T06:27:29.370961Z",
     "shell.execute_reply": "2021-08-01T06:27:29.370421Z",
     "shell.execute_reply.started": "2021-08-01T06:12:05.127034Z"
    },
    "papermill": {
     "duration": 4.323085,
     "end_time": "2021-08-01T06:27:29.371117",
     "exception": false,
     "start_time": "2021-08-01T06:27:25.048032",
     "status": "completed"
    },
    "tags": []
   },
   "outputs": [
    {
     "data": {
      "text/html": [
       "<div>\n",
       "<style scoped>\n",
       "    .dataframe tbody tr th:only-of-type {\n",
       "        vertical-align: middle;\n",
       "    }\n",
       "\n",
       "    .dataframe tbody tr th {\n",
       "        vertical-align: top;\n",
       "    }\n",
       "\n",
       "    .dataframe thead th {\n",
       "        text-align: right;\n",
       "    }\n",
       "</style>\n",
       "<table border=\"1\" class=\"dataframe\">\n",
       "  <thead>\n",
       "    <tr style=\"text-align: right;\">\n",
       "      <th></th>\n",
       "      <th>PRODUCT_ID</th>\n",
       "      <th>BROWSE_NODE_ID</th>\n",
       "    </tr>\n",
       "  </thead>\n",
       "  <tbody>\n",
       "    <tr>\n",
       "      <th>0</th>\n",
       "      <td>1</td>\n",
       "      <td>1140</td>\n",
       "    </tr>\n",
       "    <tr>\n",
       "      <th>1</th>\n",
       "      <td>2</td>\n",
       "      <td>2321</td>\n",
       "    </tr>\n",
       "    <tr>\n",
       "      <th>2</th>\n",
       "      <td>3</td>\n",
       "      <td>204</td>\n",
       "    </tr>\n",
       "    <tr>\n",
       "      <th>3</th>\n",
       "      <td>4</td>\n",
       "      <td>125</td>\n",
       "    </tr>\n",
       "    <tr>\n",
       "      <th>4</th>\n",
       "      <td>5</td>\n",
       "      <td>7644</td>\n",
       "    </tr>\n",
       "  </tbody>\n",
       "</table>\n",
       "</div>"
      ],
      "text/plain": [
       "   PRODUCT_ID  BROWSE_NODE_ID\n",
       "0           1            1140\n",
       "1           2            2321\n",
       "2           3             204\n",
       "3           4             125\n",
       "4           5            7644"
      ]
     },
     "execution_count": 4,
     "metadata": {},
     "output_type": "execute_result"
    }
   ],
   "source": [
    "test = pd.read_csv('../input/amazon-ml-challenge-dataset/dataset/test.csv', escapechar = \"\\\\\"  , quoting = csv.QUOTE_NONE, usecols = ['PRODUCT_ID'])\n",
    "test['BROWSE_NODE_ID'] = pred_knn\n",
    "test.to_csv(\"submission_knn.csv\", index = False)\n",
    "test.head()"
   ]
  },
  {
   "cell_type": "code",
   "execution_count": null,
   "id": "feb5a85d",
   "metadata": {
    "papermill": {
     "duration": 0.004608,
     "end_time": "2021-08-01T06:27:29.380920",
     "exception": false,
     "start_time": "2021-08-01T06:27:29.376312",
     "status": "completed"
    },
    "tags": []
   },
   "outputs": [],
   "source": []
  }
 ],
 "metadata": {
  "kernelspec": {
   "display_name": "Python 3",
   "language": "python",
   "name": "python3"
  },
  "language_info": {
   "codemirror_mode": {
    "name": "ipython",
    "version": 3
   },
   "file_extension": ".py",
   "mimetype": "text/x-python",
   "name": "python",
   "nbconvert_exporter": "python",
   "pygments_lexer": "ipython3",
   "version": "3.7.10"
  },
  "papermill": {
   "default_parameters": {},
   "duration": 195.694853,
   "end_time": "2021-08-01T06:27:33.537111",
   "environment_variables": {},
   "exception": null,
   "input_path": "__notebook__.ipynb",
   "output_path": "__notebook__.ipynb",
   "parameters": {},
   "start_time": "2021-08-01T06:24:17.842258",
   "version": "2.3.3"
  }
 },
 "nbformat": 4,
 "nbformat_minor": 5
}
